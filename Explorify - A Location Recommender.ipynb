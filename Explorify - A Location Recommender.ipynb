{
 "cells": [
  {
   "cell_type": "markdown",
   "metadata": {},
   "source": [
    "## Importing required packages"
   ]
  },
  {
   "cell_type": "code",
   "execution_count": 4,
   "metadata": {
    "collapsed": false,
    "deletable": true,
    "editable": true
   },
   "outputs": [],
   "source": [
    "import json\n",
    "import csv\n",
    "import pandas as pd"
   ]
  },
  {
   "cell_type": "markdown",
   "metadata": {},
   "source": [
    "## Cleaning raw JSON data from Google Location History and storing it into CSV file"
   ]
  },
  {
   "cell_type": "code",
   "execution_count": 3,
   "metadata": {
    "collapsed": true
   },
   "outputs": [],
   "source": [
    "data = json.load(open('Location History.json'))\n",
    "with open('GoogleLH.csv', 'wb') as myfile:\n",
    "    wr = csv.writer(myfile, quoting=csv.QUOTE_ALL)\n",
    "    heading = [\"timestampMs\", \"latitude\", \"longitude\", \"accuracy\"]\n",
    "    wr.writerow(heading)\n",
    "\n",
    "with open('GoogleLH.csv', 'a') as myfile:\n",
    "    wr = csv.writer(myfile, quoting=csv.QUOTE_ALL)\n",
    "    for locs in data[\"locations\"]:\n",
    "        valList = [None] * 4\n",
    "        for key, value in locs.iteritems():\n",
    "            if key == \"timestampMs\":\n",
    "                valList[0] = value\n",
    "            elif key == \"latitudeE7\":\n",
    "                valList[1] = (value*1.0)/(10**7)\n",
    "            elif key == \"longitudeE7\":\n",
    "                valList[2] = (value*1.0)/(10**7)\n",
    "            elif key == \"accuracy\":\n",
    "                valList[3] = value\n",
    "        wr.writerow(valList)"
   ]
  },
  {
   "cell_type": "code",
   "execution_count": null,
   "metadata": {
    "collapsed": true
   },
   "outputs": [],
   "source": []
  }
 ],
 "metadata": {
  "kernelspec": {
   "display_name": "Python 2",
   "language": "python",
   "name": "python2"
  },
  "language_info": {
   "codemirror_mode": {
    "name": "ipython",
    "version": 2
   },
   "file_extension": ".py",
   "mimetype": "text/x-python",
   "name": "python",
   "nbconvert_exporter": "python",
   "pygments_lexer": "ipython2",
   "version": "2.7.12"
  }
 },
 "nbformat": 4,
 "nbformat_minor": 2
}
